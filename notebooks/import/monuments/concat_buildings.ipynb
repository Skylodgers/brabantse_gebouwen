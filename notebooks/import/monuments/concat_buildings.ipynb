{
 "cells": [
  {
   "cell_type": "code",
   "execution_count": 1,
   "id": "8dbf0952-c2ca-4665-b3f1-840969562e98",
   "metadata": {
    "ExecuteTime": {
     "end_time": "2023-05-11T09:27:19.125056Z",
     "start_time": "2023-05-11T09:27:19.111502Z"
    },
    "tags": []
   },
   "outputs": [],
   "source": [
    "import os\n",
    "import glob\n",
    "import json\n",
    "import uuid\n",
    "import pandas as pd\n",
    "from collections import defaultdict\n",
    "import pandas as pd\n",
    "import datetime\n",
    "\n",
    "make_relations = False\n",
    "\n",
    "save_path = '../../../brabantse_gebouwen/pkg/business_data/'"
   ]
  },
  {
   "cell_type": "code",
   "execution_count": 2,
   "id": "a450b7ac-f9d4-43dd-bf01-8fadedbf2d41",
   "metadata": {
    "ExecuteTime": {
     "end_time": "2023-05-11T09:27:19.128908Z",
     "start_time": "2023-05-11T09:27:19.122258Z"
    },
    "tags": []
   },
   "outputs": [],
   "source": [
    "#for f in glob.glob(save_path + '*.csv'):\n",
    "#    os.remove(f)\n",
    "\n",
    "#for f in glob.glob(save_path + '/relations/*.relations'):\n",
    "#    os.remove(f)    "
   ]
  },
  {
   "cell_type": "markdown",
   "id": "664b6c79-b2f5-4265-91ce-ea8088d15705",
   "metadata": {},
   "source": [
    "# Building"
   ]
  },
  {
   "cell_type": "code",
   "execution_count": 13,
   "id": "c35fc55c-b6db-42b5-b753-a30322330328",
   "metadata": {
    "ExecuteTime": {
     "end_time": "2023-05-11T09:27:21.296077Z",
     "start_time": "2023-05-11T09:27:21.270932Z"
    },
    "tags": []
   },
   "outputs": [
    {
     "name": "stdout",
     "output_type": "stream",
     "text": [
      "done\n",
      "CPU times: user 113 ms, sys: 29.3 ms, total: 143 ms\n",
      "Wall time: 149 ms\n"
     ]
    }
   ],
   "source": [
    "%%time\n",
    "\n",
    "source_path = 'out/buildings/'\n",
    "\n",
    "Single_df = pd.read_csv(source_path + 'single.csv', dtype='str')\n",
    "BuildingType_df = pd.read_csv(source_path + 'building_type.csv', dtype='str')\n",
    "BuildingAatType_df = pd.read_csv(source_path + 'building_aat_type.csv', dtype='str')\n",
    "AltNames_df = pd.read_csv(source_path + 'alternate_names.csv', dtype='str')\n",
    "Dedications_df = pd.read_csv(source_path + 'dedications.csv', dtype='str')\n",
    "Dedications_df = Dedications_df.drop(columns=['identifier_content', 'identifier_type', 'alt_names', 'other_identifier_content','other_identifier_type' ]) #'wikidata_type'])\n",
    "Architects_df = pd.read_csv(source_path + 'architects.csv', dtype='str')\n",
    "Architects_df = Architects_df.drop(columns=['identifier_content', 'identifier_type', 'alt_names', 'other_identifier_content','other_identifier_type']) #'wikidata', 'wikidata_type'])\n",
    "ReligiousOrder_df = pd.read_csv(source_path + 'religious_order.csv', dtype='str')\n",
    "Religion_df = pd.read_csv(source_path + 'religion.csv', dtype='str')\n",
    "Place_df = pd.read_csv(source_path + 'places.csv', dtype='str')\n",
    "Image_df = pd.read_csv(source_path + 'images.csv', dtype='str')\n",
    "OtherIdentifiers_df = pd.read_csv(source_path + 'other_identifiers.csv', dtype='str')\n",
    "ProductionDate_df = pd.read_csv(source_path + 'production_date.csv', dtype='str')\n",
    "\n",
    "Building_df = pd.concat([\n",
    "    Single_df,\n",
    "    OtherIdentifiers_df,\n",
    "    Image_df,\n",
    "    BuildingType_df,\n",
    "    BuildingAatType_df,\n",
    "    AltNames_df,\n",
    "    Architects_df,\n",
    "    Dedications_df,cc\n",
    "    ReligiousOrder_df,\n",
    "    Religion_df,\n",
    "    Place_df,\n",
    "    ProductionDate_df\n",
    "    \n",
    "    ])\n",
    "\n",
    "Building_df = Building_df.sort_values(by=['ResourceID', 'card_order', 'card'])\n",
    "Building_df.to_csv(save_path + 'Building.csv', index=False)\n",
    "Building_df = []\n",
    "\n",
    "\n",
    "# Related repources\n",
    "if make_relations:\n",
    "    i_RelatedResources_df = pd.read_csv(source_path + 'RelatedResources.csv')\n",
    "    i_RelatedResources_df.to_csv(save_path + 'relations/' + 'Iconografie.relations', index=False)\n",
    "\n",
    "print('done')\n"
   ]
  },
  {
   "cell_type": "markdown",
   "id": "0a80e0b5-baaa-4c97-8faf-662bc35f55c6",
   "metadata": {},
   "source": [
    "# Permalinks"
   ]
  },
  {
   "cell_type": "code",
   "execution_count": 4,
   "id": "a8ed0bca-92c8-4450-9c79-c92033813b1d",
   "metadata": {
    "ExecuteTime": {
     "end_time": "2023-05-11T09:27:26.047514Z",
     "start_time": "2023-05-11T09:27:26.018071Z"
    },
    "tags": []
   },
   "outputs": [
    {
     "ename": "NameError",
     "evalue": "name 'i_e22_Single_df' is not defined",
     "output_type": "error",
     "traceback": [
      "\u001b[0;31m---------------------------------------------------------------------------\u001b[0m",
      "\u001b[0;31mNameError\u001b[0m                                 Traceback (most recent call last)",
      "Cell \u001b[0;32mIn[4], line 1\u001b[0m\n\u001b[0;32m----> 1\u001b[0m frames \u001b[38;5;241m=\u001b[39m [\u001b[43mi_e22_Single_df\u001b[49m, b_e22_Single_df, t_e22_Single_df, i_e73_Single_df, b_e73_Single_df, t_e73_Single_df]\n\u001b[1;32m      3\u001b[0m result_df \u001b[38;5;241m=\u001b[39m pd\u001b[38;5;241m.\u001b[39mconcat(frames)\n\u001b[1;32m      5\u001b[0m permalink_df \u001b[38;5;241m=\u001b[39m result_df[[\u001b[38;5;124m'\u001b[39m\u001b[38;5;124mResourceID\u001b[39m\u001b[38;5;124m'\u001b[39m, \u001b[38;5;124m'\u001b[39m\u001b[38;5;124mObject Number\u001b[39m\u001b[38;5;124m'\u001b[39m, \u001b[38;5;124m'\u001b[39m\u001b[38;5;124mOther Identifier\u001b[39m\u001b[38;5;124m'\u001b[39m, \u001b[38;5;124m'\u001b[39m\u001b[38;5;124mObject Identifier\u001b[39m\u001b[38;5;124m'\u001b[39m]]\n",
      "\u001b[0;31mNameError\u001b[0m: name 'i_e22_Single_df' is not defined"
     ]
    }
   ],
   "source": [
    "frames = [i_e22_Single_df, b_e22_Single_df, t_e22_Single_df, i_e73_Single_df, b_e73_Single_df, t_e73_Single_df]\n",
    "\n",
    "result_df = pd.concat(frames)\n",
    "\n",
    "permalink_df = result_df[['ResourceID', 'Object Number', 'Other Identifier', 'Object Identifier']]\n",
    "permalink_df.to_csv('../../../../digipolis-arches-shoku-pkg/source/mmb/admin/permalinks.csv', index=False)\n",
    "print('Done')"
   ]
  },
  {
   "cell_type": "code",
   "execution_count": null,
   "id": "5cf251cf-ed6d-4674-bbc9-c5559e123998",
   "metadata": {
    "ExecuteTime": {
     "end_time": "2023-05-11T09:27:27.224997Z",
     "start_time": "2023-05-11T09:27:27.223566Z"
    },
    "tags": []
   },
   "outputs": [],
   "source": [
    "%reset -f"
   ]
  },
  {
   "cell_type": "code",
   "execution_count": null,
   "id": "52eaf2b6-13e9-4709-a3ea-8957057292dd",
   "metadata": {
    "ExecuteTime": {
     "end_time": "2023-05-11T06:54:56.927068Z",
     "start_time": "2023-05-11T06:54:56.924132Z"
    }
   },
   "outputs": [],
   "source": []
  },
  {
   "cell_type": "code",
   "execution_count": null,
   "id": "f8716556-29e8-4b65-b662-01720c0a5a5d",
   "metadata": {
    "ExecuteTime": {
     "end_time": "2023-05-11T06:54:56.927650Z",
     "start_time": "2023-05-11T06:54:56.925993Z"
    }
   },
   "outputs": [],
   "source": []
  }
 ],
 "metadata": {
  "kernelspec": {
   "display_name": "Python 3 (ipykernel)",
   "language": "python",
   "name": "python3"
  },
  "language_info": {
   "codemirror_mode": {
    "name": "ipython",
    "version": 3
   },
   "file_extension": ".py",
   "mimetype": "text/x-python",
   "name": "python",
   "nbconvert_exporter": "python",
   "pygments_lexer": "ipython3",
   "version": "3.11.13"
  }
 },
 "nbformat": 4,
 "nbformat_minor": 5
}
