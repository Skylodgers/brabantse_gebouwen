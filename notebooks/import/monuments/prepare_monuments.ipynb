{
 "cells": [
  {
   "cell_type": "code",
   "execution_count": 35,
   "id": "f37f440e-40a4-4a60-b872-baa0ff7277c3",
   "metadata": {
    "scrolled": true
   },
   "outputs": [],
   "source": [
    "import os\n",
    "import json\n",
    "import xmltodict\n",
    "import pandas as pd\n",
    "from lxml import etree\n",
    "import re\n",
    "\n",
    "source_file = './source/mapping_test.xml'\n",
    "\n",
    "tree = etree.parse(source_file)\n",
    "root = tree.getroot()\n",
    "\n",
    "def strip_namespace(element):\n",
    "    # Strip the namespace from the element tag\n",
    "    element.tag = re.sub(r'\\{.*\\}', '', element.tag)\n",
    "    # Create a clean attributes dictionary without namespaces\n",
    "    cleaned_attrib = {re.sub(r'\\{.*\\}', '', k): v for k, v in element.attrib.items()}\n",
    "    element.attrib.clear()  # Clear existing attributes\n",
    "    element.attrib.update(cleaned_attrib)  # Update with cleaned attributes\n",
    "    # Recursively strip namespaces from child elements\n",
    "    for child in element:\n",
    "        strip_namespace(child)\n",
    "\n",
    "strip_namespace(root)\n",
    "\n",
    "def remove_attributes(element):\n",
    "    attributes_to_remove = ['lang', 'datatype']  # Attributes without namespaces\n",
    "    to_delete = [attr for attr in element.attrib if re.sub(r'\\{.*\\}', '', attr) in attributes_to_remove]\n",
    "    for attr in to_delete:\n",
    "        del element.attrib[attr]\n",
    "\n",
    "def replace_attrib_with_text_or_id(element):\n",
    "    if element.attrib:\n",
    "        if len(element) == 0:  # If the element has no children\n",
    "            element.text = ' '.join(f'{k}=\"{v}\"' for k, v in element.attrib.items())\n",
    "            element.attrib.clear()  # Clear the attributes after converting to text\n",
    "        else:  \n",
    "            id_element = etree.Element(\"id\")\n",
    "            id_element.text = ' '.join(f'{k}=\"{v}\"' for k, v in element.attrib.items()).replace('\"', '')\n",
    "            element.attrib.clear()  # Clear existing attributes\n",
    "            # Insert the new <id> element as the first child\n",
    "            element.insert(0, id_element)\n",
    "\n",
    "for elem in root.iter():\n",
    "    remove_attributes(elem)\n",
    "    replace_attrib_with_text_or_id(elem)\n",
    "    \n",
    "\n",
    "\n",
    "# Save the cleaned XML file\n",
    "tree.write(\"./out/monuments.xml\", pretty_print=True, xml_declaration=True, encoding=\"UTF-8\")\n",
    "\n"
   ]
  },
  {
   "cell_type": "code",
   "execution_count": null,
   "id": "a3e5dff9-8c23-485e-bc33-1a6997eb70b5",
   "metadata": {},
   "outputs": [],
   "source": []
  }
 ],
 "metadata": {
  "kernelspec": {
   "display_name": "Python 3 (ipykernel)",
   "language": "python",
   "name": "python3"
  },
  "language_info": {
   "codemirror_mode": {
    "name": "ipython",
    "version": 3
   },
   "file_extension": ".py",
   "mimetype": "text/x-python",
   "name": "python",
   "nbconvert_exporter": "python",
   "pygments_lexer": "ipython3",
   "version": "3.11.9"
  }
 },
 "nbformat": 4,
 "nbformat_minor": 5
}
