{
 "cells": [
  {
   "cell_type": "code",
   "execution_count": 2,
   "id": "f37f440e-40a4-4a60-b872-baa0ff7277c3",
   "metadata": {},
   "outputs": [],
   "source": [
    "import os\n",
    "from lxml import etree as ET\n",
    "import json\n",
    "import xmltodict\n",
    "\n",
    "\n",
    "source_file = '../source/sip-c.xml'\n",
    "\n",
    "# Open and read the XML file\n",
    "with open(source_file, 'r') as xml_file:\n",
    "    xml_data = xml_file.read()"
   ]
  },
  {
   "cell_type": "code",
   "execution_count": 9,
   "id": "769082ca-f130-4613-9b97-fe07a1ab5180",
   "metadata": {},
   "outputs": [
    {
     "name": "stdout",
     "output_type": "stream",
     "text": [
      "{'@rdf:about': 'https://n2t.net/ark:/15052/2ab1039e-8715-4d05-9798-9aeeb30e60c7', 'custom:wikibaseURI': {'@rdf:resource': 'http://gebouwen.brabantcloud.nl/entity/Q2477'}, 'schema:name': {'@xml:lang': 'nl', '#text': 'Klooster Heilige Paulus'}, 'schema:alternateName': [{'@xml:lang': 'nl', '#text': 'Klooster H. Paulus'}, {'@xml:lang': 'nl', '#text': 'Huize Paulus'}], 'schema:additionalType': {'@rdf:resource': 'http://vocab.getty.edu/aat/300000641'}, 'custom:typeOfBuilding': {'@xml:lang': 'nl', '#text': 'Kloostergebouw'}, 'custom:monumentStatus': {'@xml:lang': 'nl', '#text': 'Gemeentelijk monument'}, 'custom:monumentLinkRCE': {'@rdf:resource': 'https://nl.wikipedia.org/wiki/Lijst_van_gemeentelijke_monumenten_in_Eindhoven'}, 'custom:dedicationURI': {'skos:Concept': {'@rdf:about': 'https://n2t.net/ark:/15052/a6881884-78b7-445e-be53-4c069482a072', 'skos:prefLabel': {'@xml:lang': 'nl', '#text': 'Paulus'}, 'custom:wikidata': {'@rdf:resource': 'https://www.wikidata.org/entity/Q9200'}, 'skos:altLabel': [{'@xml:lang': 'nl', '#text': 'Paulus (apostel)'}, {'@xml:lang': 'nl', '#text': 'Sint-Paulus'}, {'@xml:lang': 'nl', '#text': 'Sint Paulus'}, {'@xml:lang': 'nl', '#text': 'Saulus van Tarsus'}, {'@xml:lang': 'nl', '#text': 'Saulus'}, {'@xml:lang': 'nl', '#text': 'Paulus van Tarsus'}, {'@xml:lang': 'nl', '#text': 'De Apostel Paulus'}, {'@xml:lang': 'nl', '#text': 'Apostel Paulus'}, {'@xml:lang': 'nl', '#text': 'St. Paulus'}]}}, 'custom:architectURI': {'custom:Agent': {'@rdf:about': 'https://n2t.net/ark:/15052/360909c2-8b88-4684-adc4-46aabd53efa6', 'skos:prefLabel': {'@xml:lang': 'nl', '#text': 'Louis Kooken'}, 'custom:wikidata': {'@rdf:resource': 'https://www.wikidata.org/entity/Q2036765'}, 'skos:altLabel': [{'@xml:lang': 'nl', '#text': 'Louis Joseph Petrus Kooken'}, {'@xml:lang': 'nl', '#text': 'L.J.P. Kooken'}]}}, 'custom:religionURI': {'skos:Concept': {'@rdf:about': 'https://n2t.net/ark:/15052/7a44be7c-1bdb-4edb-bb1c-083ee2003c72', 'skos:prefLabel': {'@xml:lang': 'nl', '#text': 'Rooms-Katholieke Kerk'}, 'custom:wikidata': {'@rdf:resource': 'https://www.wikidata.org/wiki/Q9592'}, 'skos:altLabel': [{'@xml:lang': 'nl', '#text': 'Rooms Katholiek'}, {'@xml:lang': 'nl', '#text': 'Katholieke Kerk'}, {'@xml:lang': 'nl', '#text': 'Rooms-Katholiek'}]}}, 'custom:religiousOrder': {'skos:Concept': {'@rdf:about': 'https://n2t.net/ark:/15052/9cc891f8-15a6-441b-aefa-da2b7f749b24', 'skos:prefLabel': {'@xml:lang': 'nl', '#text': 'Zusters van Liefde van Tilburg'}, 'custom:wikidata': {'@rdf:resource': 'http://www.wikidata.org/entity/Q2125209'}, 'skos:altLabel': [{'@xml:lang': 'nl', '#text': 'Zusters van Liefde van Onze Lieve Vrouw, Moeder van Barmhartigheid'}, {'@xml:lang': 'nl', '#text': 'Zusters van Liefde van Onze Lieve Vrouwe van Barmhartigheid SCMM'}, {'@xml:lang': 'nl', '#text': 'Zusters van Tilburg'}, {'@xml:lang': 'nl', '#text': 'Zusters van Liefde van O.L.V. Moeder van Barmhartigheid'}, {'@xml:lang': 'nl', '#text': 'S.C.M.M.'}, {'@xml:lang': 'nl', '#text': 'SCMM'}, {'@xml:lang': 'nl', '#text': 'De Zusters van Liefde van Tilburg'}, {'@xml:lang': 'nl', '#text': 'De Zusters van Liefde van Tilburg SCMM'}, {'@xml:lang': 'nl', '#text': 'Sorores Caritatis Matris Misericordiae, S.C.M.M.'}]}}, 'custom:placeURI': {'schema:PostalAddress': {'@rdf:about': 'https://n2t.net/ark:/15052/6659ec5c-c127-4432-ac32-8f67d4ec97a3', 'schema:streetAddress': {'@rdf:datatype': 'http://www.w3.org/2001/XMLSchema#string', '#text': 'Strijpsestraat 144'}, 'schema:addressLocality': {'@xml:lang': 'nl', '#text': 'Eindhoven'}, 'schema:addressRegion': {'@xml:lang': 'nl', '#text': 'Gemeente Eindhoven'}}}, 'custom:dateCreated': {'@rdf:datatype': 'http://www.w3.org/2001/XMLSchema#string', '#text': '1909'}, 'custom:mipURI': {'@rdf:resource': 'https://data.brabantcloud.nl/mip-gallery/brabantcloud_mip_ae031-002749'}, 'custom:latLong': {'@rdf:datatype': 'http://www.opengis.net/ont/geosparql#wktLiteral', '#text': 'Point(5.4575 51.4409)'}, 'custom:dateInUse': {'@rdf:datatype': 'http://www.w3.org/2001/XMLSchema#string', '#text': '1910'}, 'custom:dateInUseRaw': {'@rdf:datatype': 'http://www.w3.org/2001/XMLSchema#dateTime', '#text': '1910-01-01T00:00:00+00:00'}, 'custom:dateNoLongerInUseRaw': {'@rdf:datatype': 'http://www.w3.org/2001/XMLSchema#dateTime', '#text': '1958-08-20T00:00:00+00:00'}, 'custom:dateNoLongerInUse': {'@rdf:datatype': 'http://www.w3.org/2001/XMLSchema#string', '#text': '20-8-1958'}, 'custom:dateCreatedRaw': {'@rdf:datatype': 'http://www.w3.org/2001/XMLSchema#dateTime', '#text': '1909-01-01T00:00:00+00:00'}}\n"
     ]
    }
   ],
   "source": [
    "parsed_data = xmltodict.parse(xml_data)\n",
    "\n",
    "records = parsed_data['records']['record']\n",
    "print(records[1]['rdf:RDF']['schema:LandmarksOrHistoricalBuildings'])"
   ]
  },
  {
   "cell_type": "code",
   "execution_count": 4,
   "id": "e2ff640c-89d3-4bb3-b28d-7bd29454cc39",
   "metadata": {},
   "outputs": [
    {
     "ename": "TypeError",
     "evalue": "list indices must be integers or slices, not str",
     "output_type": "error",
     "traceback": [
      "\u001b[0;31m---------------------------------------------------------------------------\u001b[0m",
      "\u001b[0;31mTypeError\u001b[0m                                 Traceback (most recent call last)",
      "Cell \u001b[0;32mIn[4], line 1\u001b[0m\n\u001b[0;32m----> 1\u001b[0m \u001b[38;5;28mprint\u001b[39m(\u001b[43mrecords\u001b[49m\u001b[43m[\u001b[49m\u001b[38;5;124;43m'\u001b[39;49m\u001b[38;5;124;43mrdf:RDF\u001b[39;49m\u001b[38;5;124;43m'\u001b[39;49m\u001b[43m]\u001b[49m)\n",
      "\u001b[0;31mTypeError\u001b[0m: list indices must be integers or slices, not str"
     ]
    }
   ],
   "source": [
    "print(records['rdf:RDF'])"
   ]
  },
  {
   "cell_type": "code",
   "execution_count": null,
   "id": "235941dc-f8cd-4cda-bfa1-93f5c1aef99c",
   "metadata": {},
   "outputs": [],
   "source": [
    "unique_keys = set()\n",
    "\n",
    "for record in records:\n",
    "    #print(record['@id'])\n",
    "    for k,v in record['rdf:RDF']['schema:LandmarksOrHistoricalBuildings'].items():\n",
    "        unique_keys.add(k)\n",
    "\n",
    "unique_keys_list = list(unique_keys)\n",
    "\n",
    "print(json.dumps(unique_keys_list, indent=2))\n",
    "print(json.dumps(records[:1], indent=2))"
   ]
  },
  {
   "cell_type": "code",
   "execution_count": null,
   "id": "aa7f9367-4bb0-4dfb-b6e6-5afd88b4eed5",
   "metadata": {},
   "outputs": [],
   "source": [
    "for record in records[:1]:\n",
    "    print(record['@id'])\n",
    "    for k,v in record['rdf:RDF']['schema:LandmarksOrHistoricalBuildings'].items():\n",
    "        print(k,len(v), v)\n"
   ]
  },
  {
   "cell_type": "code",
   "execution_count": null,
   "id": "367e2c1c-5762-42a6-ac6f-f284f7804265",
   "metadata": {},
   "outputs": [],
   "source": [
    "import xml.etree.ElementTree as ET\n",
    "\n",
    "# Load the XML file\n",
    "tree = ET.parse(source_file)\n",
    "root = tree.getroot()\n",
    "\n",
    "# Define the namespaces used in the XML\n",
    "namespaces = {\n",
    "    'schema': 'https://schema.org/',\n",
    "    'custom': 'https://data.brabantcloud.nl/ns/custom#',\n",
    "    'skos': 'http://www.w3.org/2004/02/skos/core#',\n",
    "}"
   ]
  },
  {
   "cell_type": "code",
   "execution_count": null,
   "id": "81c5761d-bdd6-4b8c-b8fa-433f833e0ea8",
   "metadata": {},
   "outputs": [],
   "source": [
    "unique_element_tags = set()\n",
    "\n",
    "# Loop through all the elements in the XML\n",
    "for element in root.iter():\n",
    "    # Add the element's tag to the set\n",
    "    unique_element_tags.add(element.tag)\n",
    "\n",
    "# Convert the set to a list\n",
    "unique_element_tags_list = list(unique_element_tags)\n",
    "\n",
    "# Print the list of unique element tags\n",
    "print(json.dumps(unique_element_tags_list, indent=2))\n"
   ]
  },
  {
   "cell_type": "code",
   "execution_count": null,
   "id": "5b98797c-6073-4c8b-8fca-4cba9d8caa03",
   "metadata": {},
   "outputs": [],
   "source": [
    "import xml.etree.ElementTree as ET\n",
    "\n",
    "# Load the XML file\n",
    "tree = ET.parse(source_file)\n",
    "root = tree.getroot()\n",
    "\n",
    "# Define the namespaces used in the XML\n",
    "namespaces = {\n",
    "    'schema': 'https://schema.org/',\n",
    "    'custom': 'https://data.brabantcloud.nl/ns/custom#',\n",
    "}\n",
    "\n",
    "# Initialize lists to store the extracted data\n",
    "street_addresses = []\n",
    "date_in_use = []\n",
    "date_destroyed = []\n",
    "\n",
    "# Loop through all the 'record' elements\n",
    "for record in root.findall('.//record'):\n",
    "    # Extract the 'schema:streetAddress' element text\n",
    "    street_address_element = record.find('.//schema:streetAddress', namespaces=namespaces)\n",
    "    if street_address_element is not None:\n",
    "        print(street_address_element.text)\n",
    "        street_addresses.append(street_address_element.text)\n",
    "\n",
    "    # Extract the 'custom:dateInUse' element text\n",
    "    date_in_use_element = record.find('.//custom:dateInUse', namespaces=namespaces)\n",
    "    if date_in_use_element is not None:\n",
    "        date_in_use.append(date_in_use_element.text)\n",
    "\n",
    "    # Extract the 'custom:dateDestroyed' element text\n",
    "    date_destroyed_element = record.find('.//custom:dateDestroyed', namespaces=namespaces)\n",
    "    if date_destroyed_element is not None:\n",
    "        date_destroyed.append(date_destroyed_element.text)\n",
    "\n",
    "# Print the extracted data\n",
    "#print(\"Street Addresses:\", street_addresses)\n",
    "#print(\"Date In Use:\", date_in_use)\n",
    "#print(\"Date Destroyed:\", date_destroyed)"
   ]
  },
  {
   "cell_type": "code",
   "execution_count": null,
   "id": "3ee2815a-b4c9-4b99-85a4-03ce1f5c1199",
   "metadata": {},
   "outputs": [],
   "source": []
  }
 ],
 "metadata": {
  "kernelspec": {
   "display_name": "Python 3 (ipykernel)",
   "language": "python",
   "name": "python3"
  },
  "language_info": {
   "codemirror_mode": {
    "name": "ipython",
    "version": 3
   },
   "file_extension": ".py",
   "mimetype": "text/x-python",
   "name": "python",
   "nbconvert_exporter": "python",
   "pygments_lexer": "ipython3",
   "version": "3.9.6"
  }
 },
 "nbformat": 4,
 "nbformat_minor": 5
}
