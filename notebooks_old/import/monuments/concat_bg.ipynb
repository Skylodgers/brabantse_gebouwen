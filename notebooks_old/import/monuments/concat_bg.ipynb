{
 "cells": [
  {
   "cell_type": "code",
   "execution_count": 1,
   "id": "8dbf0952-c2ca-4665-b3f1-840969562e98",
   "metadata": {
    "ExecuteTime": {
     "end_time": "2023-05-11T09:27:19.125056Z",
     "start_time": "2023-05-11T09:27:19.111502Z"
    },
    "tags": []
   },
   "outputs": [],
   "source": [
    "import os\n",
    "import glob\n",
    "import json\n",
    "import uuid\n",
    "import pandas as pd\n",
    "from collections import defaultdict\n",
    "import pandas as pd\n",
    "import datetime\n",
    "\n",
    "make_relations = True\n",
    "\n",
    "save_path = '../../../../digipolis-arches-shoku-pkg/packages/mmb/pkg/business_data/'"
   ]
  },
  {
   "cell_type": "code",
   "execution_count": 2,
   "id": "a450b7ac-f9d4-43dd-bf01-8fadedbf2d41",
   "metadata": {
    "ExecuteTime": {
     "end_time": "2023-05-11T09:27:19.128908Z",
     "start_time": "2023-05-11T09:27:19.122258Z"
    },
    "tags": []
   },
   "outputs": [],
   "source": [
    "for f in glob.glob(save_path + '*.csv'):\n",
    "    os.remove(f)\n",
    "\n",
    "for f in glob.glob(save_path + '/relations/*.relations'):\n",
    "    os.remove(f)    "
   ]
  },
  {
   "cell_type": "markdown",
   "id": "664b6c79-b2f5-4265-91ce-ea8088d15705",
   "metadata": {},
   "source": [
    "# Iconografie"
   ]
  },
  {
   "cell_type": "code",
   "execution_count": 3,
   "id": "c35fc55c-b6db-42b5-b753-a30322330328",
   "metadata": {
    "ExecuteTime": {
     "end_time": "2023-05-11T09:27:21.296077Z",
     "start_time": "2023-05-11T09:27:21.270932Z"
    },
    "tags": []
   },
   "outputs": [
    {
     "name": "stdout",
     "output_type": "stream",
     "text": [
      "done\n",
      "CPU times: user 22.1 ms, sys: 4.08 ms, total: 26.2 ms\n",
      "Wall time: 29 ms\n"
     ]
    }
   ],
   "source": [
    "%%time\n",
    "\n",
    "source_path = '../../../../digipolis-arches-shoku-pkg/source/mmb/Iconografie/'\n",
    "\n",
    "# e22\n",
    "i_e22_Archives_df = pd.read_csv(source_path + 'e22_Archives.csv', dtype='str')\n",
    "i_e22_Dimensions_df = pd.read_csv(source_path + 'e22_Dimensions.csv', dtype='str')\n",
    "i_e22_Images_df = pd.read_csv(source_path + 'e22_Images.csv', dtype='str')\n",
    "#i_e22_ProductionActors_df = pd.read_csv(source_path + 'e22_ProductionActors.csv', dtype='str')\n",
    "i_e22_ProductionTimeSpans_df = pd.read_csv(source_path + 'e22_ProductionTimeSpans.csv', dtype='str')\n",
    "i_e22_UsageRestrictions_df = pd.read_csv(source_path + 'e22_UsageRestrictions.csv', dtype='str')\n",
    "i_e22_Single_df = pd.read_csv(source_path + 'e22_Single.csv', dtype='str')\n",
    "\n",
    "Iconografie_material_df = pd.concat([\n",
    "    i_e22_Archives_df,\n",
    "    i_e22_Dimensions_df,    \n",
    "    i_e22_Images_df,\n",
    "    #i_e22_ProductionActors_df,\n",
    "    #i_e22_ProductionTimeSpans_df,\n",
    "    i_e22_UsageRestrictions_df,\n",
    "    i_e22_Single_df\n",
    "])\n",
    "\n",
    "sorted_iconografie_immat_df = Iconografie_material_df.sort_values(by=['ResourceID', 'card', 'order'])\n",
    "sorted_iconografie_immat_df.to_csv(save_path + 'Iconografie_material.csv', index=False)\n",
    "sorted_iconografie_immat_df = []\n",
    "\n",
    "# e73\n",
    "i_e73_MaterialRecords_df = pd.read_csv(source_path + 'e73_MaterialRecords.csv', dtype='str')\n",
    "i_e73_Copyrights_df = pd.read_csv(source_path + 'e73_Copyrights.csv', dtype='str')\n",
    "i_e73_Single_df = pd.read_csv(source_path + 'e73_Single.csv', dtype='str')\n",
    "i_e73_CreationActors_df = pd.read_csv(source_path + 'e73_CreationActors.csv', dtype='str')\n",
    "i_e73_CreationTimeSpans_df = pd.read_csv(source_path + 'e73_CreationTimeSpans.csv', dtype='str')\n",
    "#i_e73_ConnectedSubjects_df = pd.read_csv(source_path + 'e73_ConnectedSubjects.csv', dtype='str')\n",
    "\n",
    "Iconografie_df = pd.concat([\n",
    "    i_e73_MaterialRecords_df,\n",
    "    i_e73_Copyrights_df,\n",
    "    i_e73_Single_df,\n",
    "    i_e73_CreationActors_df,\n",
    "    i_e73_CreationTimeSpans_df,\n",
    " #   i_e73_ConnectedSubjects_df\n",
    "\n",
    "                     ])\n",
    "\n",
    "sorted_iconografie_df = Iconografie_df.sort_values(by=['ResourceID', 'card', 'order'])\n",
    "sorted_iconografie_df.to_csv(save_path + 'Iconografie.csv', index=False)\n",
    "sorted_iconografie_df = []\n",
    "\n",
    "# Related repources\n",
    "if make_relations:\n",
    "    i_RelatedResources_df = pd.read_csv(source_path + 'RelatedResources.csv')\n",
    "    i_RelatedResources_df.to_csv(save_path + 'relations/' + 'Iconografie.relations', index=False)\n",
    "\n",
    "print('done')\n"
   ]
  },
  {
   "cell_type": "markdown",
   "id": "2b68b1c1-34c0-4ab7-94ea-6517c234c797",
   "metadata": {},
   "source": [
    "# Brief"
   ]
  },
  {
   "cell_type": "code",
   "execution_count": 4,
   "id": "105bdafc-2951-44f0-b5a8-ca047a077c3e",
   "metadata": {
    "ExecuteTime": {
     "end_time": "2023-05-11T09:27:22.354876Z",
     "start_time": "2023-05-11T09:27:22.095254Z"
    },
    "tags": []
   },
   "outputs": [
    {
     "name": "stdout",
     "output_type": "stream",
     "text": [
      "done\n",
      "CPU times: user 263 ms, sys: 21.9 ms, total: 285 ms\n",
      "Wall time: 292 ms\n"
     ]
    }
   ],
   "source": [
    "%%time\n",
    "\n",
    "source_path = '../../../../digipolis-arches-shoku-pkg/source/mmb/Brief/'\n",
    "\n",
    "# e22\n",
    "b_e22_Acquisitions_df = pd.read_csv(source_path + 'e22_Acquisitions.csv', dtype='str')\n",
    "b_e22_Archives_df = pd.read_csv(source_path + 'e22_Archives.csv', dtype='str')\n",
    "b_e22_Images_df = pd.read_csv(source_path + 'e22_Images.csv', dtype='str')\n",
    "#b_e22_ProductionActors_df = pd.read_csv(source_path + 'e22_ProductionActors.csv', dtype='str')\n",
    "b_e22_ProductionTimeSpans_df = pd.read_csv(source_path + 'e22_ProductionTimeSpans.csv', dtype='str')\n",
    "b_e22_UsageRestrictions_df = pd.read_csv(source_path + 'e22_UsageRestrictions.csv', dtype='str')\n",
    "b_e22_Single_df = pd.read_csv(source_path + 'e22_Single.csv', dtype='str')\n",
    "\n",
    "Brief_material_df = pd.concat([\n",
    "    b_e22_Acquisitions_df,\n",
    "    b_e22_Archives_df,\n",
    "    b_e22_Images_df,\n",
    "    #b_e22_ProductionActors_df,\n",
    "    #b_e22_ProductionTimeSpans_df,\n",
    "    b_e22_UsageRestrictions_df,\n",
    "    b_e22_Single_df\n",
    "])\n",
    "\n",
    "sorted_brief_immat_df = Brief_material_df.sort_values(by=['ResourceID', 'card', 'order'])\n",
    "sorted_brief_immat_df.to_csv(save_path + 'Brief_material.csv', index=False)\n",
    "sorted_brief_immat_df = []\n",
    "\n",
    "# e73\n",
    "b_e73_ExternalRelations_df = pd.read_csv(source_path + 'e73_ExternalRelations.csv', dtype='str')\n",
    "b_e73_Languages_df = pd.read_csv(source_path + 'e73_Languages.csv', dtype='str')\n",
    "b_e73_MaterialRecords_df = pd.read_csv(source_path + 'e73_MaterialRecords.csv', dtype='str')\n",
    "b_e73_Copyrights_df = pd.read_csv(source_path + 'e73_Copyrights.csv', dtype='str')\n",
    "b_e73_Single_df = pd.read_csv(source_path + 'e73_Single.csv', dtype='str')\n",
    "b_e73_CreationActors_df = pd.read_csv(source_path + 'e73_CreationActors.csv', dtype='str')\n",
    "b_e73_CreationTimeSpans_df = pd.read_csv(source_path + 'e73_CreationTimeSpans.csv', dtype='str')\n",
    "b_e73_ConnectedSubjects_df = pd.read_csv(source_path + 'e73_ConnectedSubjects.csv', dtype='str')\n",
    "\n",
    "\n",
    "Brief_df = pd.concat([\n",
    "    b_e73_ExternalRelations_df,\n",
    "    b_e73_Languages_df,\n",
    "    b_e73_MaterialRecords_df,\n",
    "    b_e73_Copyrights_df,\n",
    "    b_e73_Single_df,\n",
    "    b_e73_CreationActors_df,\n",
    "    b_e73_CreationTimeSpans_df,\n",
    "    b_e73_ConnectedSubjects_df\n",
    "\n",
    "                     ])\n",
    "\n",
    "sorted_brief_df = Brief_df.sort_values(by=['ResourceID', 'card', 'order'])\n",
    "sorted_brief_df.to_csv(save_path + 'Brief.csv', index=False)\n",
    "sorted_brief_df = []\n",
    "\n",
    "# Related repources\n",
    "if make_relations:\n",
    "    b_RelatedResources_df = pd.read_csv(source_path + 'RelatedResources.csv')\n",
    "    b_RelatedResources_df.to_csv(save_path + 'relations/' + 'Brief.relations', index=False)\n",
    "\n",
    "del b_e73_CreationActors_df\n",
    "del b_e73_CreationTimeSpans_df\n",
    "print('done')"
   ]
  },
  {
   "cell_type": "markdown",
   "id": "4c897eaf-9f27-48d6-994b-354543592b9a",
   "metadata": {},
   "source": [
    "# Tekstadrager"
   ]
  },
  {
   "cell_type": "code",
   "execution_count": 5,
   "id": "bdfb32e0-4375-44fa-ab10-f92b6179e5cb",
   "metadata": {
    "ExecuteTime": {
     "end_time": "2023-05-11T09:27:24.078714Z",
     "start_time": "2023-05-11T09:27:24.036573Z"
    },
    "tags": []
   },
   "outputs": [
    {
     "name": "stdout",
     "output_type": "stream",
     "text": [
      "---------\n",
      "2023-11-21 12:51:03.096653\n",
      "CPU times: user 45.9 ms, sys: 7.1 ms, total: 53 ms\n",
      "Wall time: 53.9 ms\n"
     ]
    }
   ],
   "source": [
    "%%time\n",
    "\n",
    "source_path = '../../../../digipolis-arches-shoku-pkg/source/mmb/Tekstdrager/'\n",
    "\n",
    "\n",
    "# e22\n",
    "t_e22_Acquisitions_df = pd.read_csv(source_path + 'e22_Acquisitions.csv', dtype='str')\n",
    "t_e22_Archives_df = pd.read_csv(source_path + 'e22_Archives.csv', dtype='str')\n",
    "t_e22_Dimensions_df = pd.read_csv(source_path + 'e22_Dimensions.csv', dtype='str')\n",
    "t_e22_Images_df = pd.read_csv(source_path + 'e22_Images.csv', dtype='str')\n",
    "t_e22_UsageRestrictions_df = pd.read_csv(source_path + 'e22_UsageRestrictions.csv', dtype='str')\n",
    "t_e22_Single_df = pd.read_csv(source_path + 'e22_Single.csv', dtype='str')\n",
    "\n",
    "\n",
    "Tekstdrager_material_df = pd.concat([\n",
    "    t_e22_Acquisitions_df,\n",
    "    t_e22_Archives_df,\n",
    "    t_e22_Dimensions_df,\n",
    "    #t_e22_ProductionActors_df,\n",
    "    #t_e22_ProductionTimeSpans_df,\n",
    "    t_e22_UsageRestrictions_df,\n",
    "    t_e22_Images_df,\n",
    "    t_e22_Single_df\n",
    "\n",
    "])\n",
    "\n",
    "sorted_tekstdrager_material_df = Tekstdrager_material_df.sort_values(by=['ResourceID', 'card', 'order'])\n",
    "sorted_tekstdrager_material_df.to_csv(save_path + 'Tekstdrager_material.csv', index=False)\n",
    "sorted_tekstdrager_material_df = []\n",
    "\n",
    "\n",
    "# e73\n",
    "t_e73_ExternalRelations_df = pd.read_csv(source_path + 'e73_ExternalRelations.csv', dtype='str')\n",
    "t_e73_Languages_df = pd.read_csv(source_path + 'e73_Languages.csv', dtype='str')\n",
    "t_e73_MaterialRecords_df = pd.read_csv(source_path + 'e73_MaterialRecords.csv', dtype='str')\n",
    "t_e73_Copyrights_df = pd.read_csv(source_path + 'e73_Copyrights.csv', dtype='str')\n",
    "t_e73_Single_df = pd.read_csv(source_path + 'e73_Single.csv', dtype='str')\n",
    "t_e73_CreationActors_df = pd.read_csv(source_path + 'e73_CreationActors.csv', dtype='str')\n",
    "t_e73_CreationTimeSpans_df = pd.read_csv(source_path + 'e73_CreationTimeSpans.csv', dtype='str')\n",
    "t_e73_ConnectedSubjects_df = pd.read_csv(source_path + 'e73_ConnectedSubjects.csv', dtype='str')\n",
    "\n",
    "Tekstdrager_df = pd.concat([\n",
    "    t_e73_ExternalRelations_df,\n",
    "    t_e73_Languages_df,\n",
    "    t_e73_MaterialRecords_df,\n",
    "    t_e73_Copyrights_df,\n",
    "    t_e73_Single_df,\n",
    "    t_e73_CreationActors_df,\n",
    "    t_e73_CreationTimeSpans_df,\n",
    "    t_e73_ConnectedSubjects_df\n",
    "\n",
    "])\n",
    "\n",
    "sorted_tekstdrager_df = Tekstdrager_df.sort_values(by=['ResourceID', 'card', 'order'])\n",
    "sorted_tekstdrager_df.to_csv(save_path + 'Tekstdrager.csv', index=False)\n",
    "#sorted_tekstdrager_df = []\n",
    "\n",
    "# Related resources\n",
    "if make_relations:\n",
    "    t_RelatedResources_df = pd.read_csv(source_path + 'RelatedResources.csv')\n",
    "    t_RelatedResources_df.to_csv(save_path + 'relations/' + 'Tekstdrager.relations', index=False)\n",
    "\n",
    "\n",
    "print('---------') \n",
    "print(datetime.datetime.now())\n"
   ]
  },
  {
   "cell_type": "markdown",
   "id": "0a80e0b5-baaa-4c97-8faf-662bc35f55c6",
   "metadata": {},
   "source": [
    "# Permalinks"
   ]
  },
  {
   "cell_type": "code",
   "execution_count": 6,
   "id": "a8ed0bca-92c8-4450-9c79-c92033813b1d",
   "metadata": {
    "ExecuteTime": {
     "end_time": "2023-05-11T09:27:26.047514Z",
     "start_time": "2023-05-11T09:27:26.018071Z"
    },
    "tags": []
   },
   "outputs": [
    {
     "name": "stdout",
     "output_type": "stream",
     "text": [
      "Done\n"
     ]
    }
   ],
   "source": [
    "frames = [i_e22_Single_df, b_e22_Single_df, t_e22_Single_df, i_e73_Single_df, b_e73_Single_df, t_e73_Single_df]\n",
    "\n",
    "result_df = pd.concat(frames)\n",
    "\n",
    "permalink_df = result_df[['ResourceID', 'Object Number', 'Other Identifier', 'Object Identifier']]\n",
    "permalink_df.to_csv('../../../../digipolis-arches-shoku-pkg/source/mmb/admin/permalinks.csv', index=False)\n",
    "print('Done')"
   ]
  },
  {
   "cell_type": "code",
   "execution_count": 7,
   "id": "5cf251cf-ed6d-4674-bbc9-c5559e123998",
   "metadata": {
    "ExecuteTime": {
     "end_time": "2023-05-11T09:27:27.224997Z",
     "start_time": "2023-05-11T09:27:27.223566Z"
    },
    "tags": []
   },
   "outputs": [],
   "source": [
    "%reset -f"
   ]
  },
  {
   "cell_type": "code",
   "execution_count": null,
   "id": "52eaf2b6-13e9-4709-a3ea-8957057292dd",
   "metadata": {
    "ExecuteTime": {
     "end_time": "2023-05-11T06:54:56.927068Z",
     "start_time": "2023-05-11T06:54:56.924132Z"
    }
   },
   "outputs": [],
   "source": []
  },
  {
   "cell_type": "code",
   "execution_count": null,
   "id": "f8716556-29e8-4b65-b662-01720c0a5a5d",
   "metadata": {
    "ExecuteTime": {
     "end_time": "2023-05-11T06:54:56.927650Z",
     "start_time": "2023-05-11T06:54:56.925993Z"
    }
   },
   "outputs": [],
   "source": []
  }
 ],
 "metadata": {
  "kernelspec": {
   "display_name": "Python 3 (ipykernel)",
   "language": "python",
   "name": "python3"
  },
  "language_info": {
   "codemirror_mode": {
    "name": "ipython",
    "version": 3
   },
   "file_extension": ".py",
   "mimetype": "text/x-python",
   "name": "python",
   "nbconvert_exporter": "python",
   "pygments_lexer": "ipython3",
   "version": "3.9.6"
  }
 },
 "nbformat": 4,
 "nbformat_minor": 5
}
