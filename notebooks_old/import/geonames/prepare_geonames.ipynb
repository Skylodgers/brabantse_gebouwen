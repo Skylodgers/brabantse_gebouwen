{
 "cells": [
  {
   "cell_type": "code",
   "execution_count": null,
   "id": "f37f440e-40a4-4a60-b872-baa0ff7277c3",
   "metadata": {
    "scrolled": true
   },
   "outputs": [],
   "source": [
    "import os\n",
    "import json\n",
    "import xmltodict\n",
    "import numpy as np\n",
    "import pandas as pd\n",
    "from collections import defaultdict\n",
    "\n",
    "NETHERLANDS_COUNTRY_CODE = '2750405'\n",
    "NOORD_BRABANT_ADM1_CODE = '2749990'\n",
    "\n",
    "source_file = './source/NL/NL.csv'\n",
    "nb_out_file = './out/geonames_nb.csv'\n",
    "alt_names_source_file = './source/alternateNames/alternateNames.txt'\n",
    "alt_names_out_file = './out/alternate_names_nb.csv'\n",
    "source_file_feature_codes = './source/featureCodes_en.txt'\n",
    "out_file_feature_codes = './lookup/feature_codes.csv'\n"
   ]
  },
  {
   "cell_type": "markdown",
   "id": "5521950f-498a-46eb-9483-26db760ec859",
   "metadata": {},
   "source": [
    "## Workflow\n",
    "\n",
    "1. Filter out all Noord Brabant places\n",
    "2. Add parentid\n",
    "3. Create alternate names for Noord Brabant\n",
    "4. Create lookup file for Feature Codes"
   ]
  },
  {
   "cell_type": "markdown",
   "id": "41df9215-b951-4101-aec3-2ac37a4227f8",
   "metadata": {},
   "source": [
    "## 1. Filter out NB places"
   ]
  },
  {
   "cell_type": "code",
   "execution_count": null,
   "id": "11efeda6-347e-4f08-919d-b9909224ef4e",
   "metadata": {},
   "outputs": [],
   "source": [
    "%%time\n",
    "geonames_df = pd.read_csv(source_file, delimiter=';', dtype={'geonameid': str, 'admin1_code': str, 'admin2_code': str, 'population': str})\n",
    "geonames_nb_df = geonames_df.loc[(geonames_df['country_code'] == 'NL') & (geonames_df['admin1_code'] == '06') | (geonames_df['geonameid'] == 2750405)]\n",
    "geonames_nb_df['lat_long'] = geonames_nb_df.apply(lambda row: (row['latitude'], row['longitude']), axis=1)\n",
    "geonames_nb_df"
   ]
  },
  {
   "cell_type": "markdown",
   "id": "48d0a33c-641e-41b3-b571-262075fb523b",
   "metadata": {},
   "source": [
    "## 2. Add parentid"
   ]
  },
  {
   "cell_type": "code",
   "execution_count": null,
   "id": "9075952f-a9f3-443e-b4dd-579722b08f8d",
   "metadata": {},
   "outputs": [],
   "source": [
    "%%time\n",
    "\n",
    "def find_parent_id(row, df):\n",
    "    # No parent for countries\n",
    "    if row['feature_code'] == 'PCLI':  # 'PCLI' usually represents a country\n",
    "        return None\n",
    "     \n",
    "    if pd.notnull(row['admin2_code']):\n",
    "        # has admin2_code\n",
    "        parent = df[(df['country_code'] == row['country_code']) &\n",
    "                (df['admin2_code'] == row['admin2_code']) & \n",
    "                (df['admin1_code'] == row['admin1_code'])]\n",
    "    else:\n",
    "        # no admin2_code code, only part of NB\n",
    "        parent = df[(df['country_code'] == row['country_code']) &\n",
    "                (df['feature_code'].str.startswith('ADM1')) & \n",
    "                (df['admin1_code'] == row['admin1_code'])]\n",
    "        \n",
    "    # Return parentid if not empty\n",
    "    if not parent.empty:        \n",
    "        return parent.iloc[0]['geonameid']\n",
    "                \n",
    "    # Return None if no parent found\n",
    "    return None\n",
    "\n",
    "# call find_parent_id for each row\n",
    "geonames_nb_df['parentid'] = geonames_nb_df.apply(lambda row: find_parent_id(row, geonames_df), axis=1)\n",
    "geonames_nb_df.to_csv(nb_out_file, index=False)\n",
    "geonames_nb_df"
   ]
  },
  {
   "cell_type": "markdown",
   "id": "4363216b-a1a7-41ea-b129-a523355a3715",
   "metadata": {},
   "source": [
    "## 3. Filter out alternate names for Noord Brabant"
   ]
  },
  {
   "cell_type": "code",
   "execution_count": null,
   "id": "0e514bda-10fa-4e2b-b480-76f71fc3312f",
   "metadata": {},
   "outputs": [],
   "source": [
    "%%time\n",
    "\n",
    "alt_names_df = pd.read_csv(alt_names_source_file, delimiter='\\t', dtype={'alternateNameId': str, 'geonameid': str, 'isPreferredName': str, 'isShortName': str, 'isColloquial': str, 'isHistoric': str})\n",
    "merged_df = pd.merge(\n",
    "    alt_names_df,\n",
    "    geonames_nb_df[['geonameid']],\n",
    "    on='geonameid',\n",
    "    how='inner'\n",
    ")\n",
    "\n",
    "merged_df.drop('Unnamed: 10', axis=1, inplace=True)\n",
    "\n",
    "# boolean -> one name_type column \n",
    "def determine_name_type(row):\n",
    "    if row['isPreferredName'] == \"1\":\n",
    "        return 'Preferred name'\n",
    "    elif row['isShortName'] == \"1\":\n",
    "        return 'Short name'\n",
    "    elif row['isColloquial'] == \"1\":\n",
    "        return 'Colloquial name'\n",
    "    elif row['isHistoric'] == \"1\":\n",
    "        return 'Historic name'\n",
    "    else:\n",
    "        return None  # or an empty string, depending on your preference\n",
    "\n",
    "merged_df['name_type'] = alt_names_df.apply(determine_name_type, axis=1)\n",
    "\n",
    "merged_df.to_csv(alt_names_out_file, index=False)\n",
    "merged_df"
   ]
  },
  {
   "cell_type": "markdown",
   "id": "b51d87a8-f0a8-4f9e-b9f6-e16d07f52f8f",
   "metadata": {},
   "source": [
    "## 4. Create lookup file for Feature Codes"
   ]
  },
  {
   "cell_type": "code",
   "execution_count": null,
   "id": "8645f4e1-e910-4212-97c8-8e00c4bcb75c",
   "metadata": {},
   "outputs": [],
   "source": [
    "%%time\n",
    "feature_codes_df = pd.read_csv(source_file_feature_codes, delimiter='\\t')\n",
    "\n",
    "feature_codes_split = feature_codes_df['class_code'].str.split('.', expand=True)\n",
    "feature_codes_df['feature_class'] = feature_codes_split[0]  # First part (before dot)\n",
    "feature_codes_df['code'] = feature_codes_split[1]   # Second part (after dot)\n",
    "feature_codes_df = feature_codes_df[['code', 'concept', 'description', 'class_code', 'feature_class']]\n",
    "feature_codes_df.to_csv(out_file_feature_codes, index=False)\n",
    "\n",
    "feature_codes_df"
   ]
  },
  {
   "cell_type": "code",
   "execution_count": null,
   "id": "56cbf1c5-da5c-4b1f-a816-59664ab69eec",
   "metadata": {},
   "outputs": [],
   "source": []
  },
  {
   "cell_type": "code",
   "execution_count": null,
   "id": "0e42c9d6-10af-4a2d-9d55-6cb4537fc8f6",
   "metadata": {},
   "outputs": [],
   "source": [
    "%reset -f"
   ]
  },
  {
   "cell_type": "code",
   "execution_count": null,
   "id": "873805c1-da04-4c2e-b3a9-31186d70b311",
   "metadata": {},
   "outputs": [],
   "source": []
  }
 ],
 "metadata": {
  "kernelspec": {
   "display_name": "Python 3 (ipykernel)",
   "language": "python",
   "name": "python3"
  },
  "language_info": {
   "codemirror_mode": {
    "name": "ipython",
    "version": 3
   },
   "file_extension": ".py",
   "mimetype": "text/x-python",
   "name": "python",
   "nbconvert_exporter": "python",
   "pygments_lexer": "ipython3",
   "version": "3.11.9"
  }
 },
 "nbformat": 4,
 "nbformat_minor": 5
}
